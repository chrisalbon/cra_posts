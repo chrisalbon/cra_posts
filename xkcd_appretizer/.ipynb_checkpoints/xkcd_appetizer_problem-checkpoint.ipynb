{
 "metadata": {
  "name": "",
  "signature": "sha256:7bd14b95594445a68cb0245d59bbc4537bd33a376f34157c86d681a412911d7e"
 },
 "nbformat": 3,
 "nbformat_minor": 0,
 "worksheets": [
  {
   "cells": [
    {
     "cell_type": "markdown",
     "metadata": {},
     "source": [
      "# Brute Forcing xkcd's NP-Complete Appretizer Problem\n",
      "\n",
      "In [xkcd comic 287](http://xkcd.com/287/), a patron tells a waiter that they want \"exactly 15.05 worth of appretizers\". The premise of the comic is about NP-complete, but interestingly the strip includes the actual menu, with prices. Being bored, I figured \"I wonder what orders waiter could bring?\" and so decided to brute force the answer."
     ]
    },
    {
     "cell_type": "code",
     "collapsed": false,
     "input": [
      "from IPython.display import Image\n",
      "from IPython.display import display\n",
      "display(Image(url='http://imgs.xkcd.com/comics/np_complete.png'))"
     ],
     "language": "python",
     "metadata": {},
     "outputs": [
      {
       "html": [
        "<img src=\"http://imgs.xkcd.com/comics/np_complete.png\"/>"
       ],
       "metadata": {},
       "output_type": "display_data",
       "text": [
        "<IPython.core.display.Image at 0x104b1bbd0>"
       ]
      }
     ],
     "prompt_number": 1
    },
    {
     "cell_type": "markdown",
     "metadata": {},
     "source": [
      "## Preliminaries"
     ]
    },
    {
     "cell_type": "code",
     "collapsed": false,
     "input": [
      "import pandas as pd"
     ],
     "language": "python",
     "metadata": {},
     "outputs": [],
     "prompt_number": 2
    },
    {
     "cell_type": "markdown",
     "metadata": {},
     "source": [
      "## Setting up the menu"
     ]
    },
    {
     "cell_type": "code",
     "collapsed": false,
     "input": [
      "menu = pd.DataFrame()\n",
      "\n",
      "menu['item'] = ['mixed fruit', 'french fries', 'side salad', 'hot wings', 'mozzarella sticks', 'sampler plate']\n",
      "menu['price'] = [2.15, 2.75, 3.35, 3.55, 4.20, 5.80]"
     ],
     "language": "python",
     "metadata": {},
     "outputs": [],
     "prompt_number": 3
    },
    {
     "cell_type": "code",
     "collapsed": false,
     "input": [
      "menu"
     ],
     "language": "python",
     "metadata": {},
     "outputs": [
      {
       "html": [
        "<div style=\"max-height:1000px;max-width:1500px;overflow:auto;\">\n",
        "<table border=\"1\" class=\"dataframe\">\n",
        "  <thead>\n",
        "    <tr style=\"text-align: right;\">\n",
        "      <th></th>\n",
        "      <th>item</th>\n",
        "      <th>price</th>\n",
        "    </tr>\n",
        "  </thead>\n",
        "  <tbody>\n",
        "    <tr>\n",
        "      <th>0</th>\n",
        "      <td>       mixed fruit</td>\n",
        "      <td> 2.15</td>\n",
        "    </tr>\n",
        "    <tr>\n",
        "      <th>1</th>\n",
        "      <td>      french fries</td>\n",
        "      <td> 2.75</td>\n",
        "    </tr>\n",
        "    <tr>\n",
        "      <th>2</th>\n",
        "      <td>        side salad</td>\n",
        "      <td> 3.35</td>\n",
        "    </tr>\n",
        "    <tr>\n",
        "      <th>3</th>\n",
        "      <td>         hot wings</td>\n",
        "      <td> 3.55</td>\n",
        "    </tr>\n",
        "    <tr>\n",
        "      <th>4</th>\n",
        "      <td> mozzarella sticks</td>\n",
        "      <td> 4.20</td>\n",
        "    </tr>\n",
        "    <tr>\n",
        "      <th>5</th>\n",
        "      <td>     sampler plate</td>\n",
        "      <td> 5.80</td>\n",
        "    </tr>\n",
        "  </tbody>\n",
        "</table>\n",
        "</div>"
       ],
       "metadata": {},
       "output_type": "pyout",
       "prompt_number": 4,
       "text": [
        "                item  price\n",
        "0        mixed fruit   2.15\n",
        "1       french fries   2.75\n",
        "2         side salad   3.35\n",
        "3          hot wings   3.55\n",
        "4  mozzarella sticks   4.20\n",
        "5      sampler plate   5.80"
       ]
      }
     ],
     "prompt_number": 4
    },
    {
     "cell_type": "markdown",
     "metadata": {},
     "source": [
      "## Brute forcing an answer"
     ]
    },
    {
     "cell_type": "code",
     "collapsed": false,
     "input": [
      "# This mega-forloop goes through every permutation of menu item prices, with replacement. \n",
      "# If it finds any permutation that totals 15.05, it apprends the prices to a solutions list.\n",
      "\n",
      "solutions = []\n",
      "\n",
      "for i in menu['price']:\n",
      "    if i == 15.05:\n",
      "        solutions.append(i)\n",
      "    for j in menu['price']:\n",
      "        if sum([i,j]) == 15.05:\n",
      "            solutions.append([i,j])\n",
      "        for k in menu['price']:\n",
      "            if sum([i,j,k]) == 15.05:\n",
      "                solutions.append([i,j,k])\n",
      "            for z in menu['price']:\n",
      "                if sum([i,j,k,z]) == 15.05:\n",
      "                    solutions.append([i,j,k,z])\n",
      "                for x in menu['price']:\n",
      "                    if sum([i,j,k,z,x]) == 15.05:\n",
      "                        solutions.append([i,j,k,z,x])\n",
      "                    for y in menu['price']:\n",
      "                        if sum([i,j,k,z,x,y]) == 15.05:\n",
      "                            solutions.append([i,j,k,z,x,y])\n",
      "\n",
      "# Sort the prices within each list. We need to do this for the unique orders\n",
      "# list comprehension to work latter on.\n",
      "for row in solutions:\n",
      "    row = row.sort()"
     ],
     "language": "python",
     "metadata": {},
     "outputs": [],
     "prompt_number": 5
    },
    {
     "cell_type": "markdown",
     "metadata": {},
     "source": [
      "## Converting the prices (floats) into menu items (strings)"
     ]
    },
    {
     "cell_type": "code",
     "collapsed": false,
     "input": [
      "# This forloop is a hacky way of converting the solutions list (which is a list of prices)\n",
      "# into a list of menu items.\n",
      "\n",
      "possible_orders = []\n",
      "\n",
      "for row in solutions:\n",
      "    order = []\n",
      "    for item in row:\n",
      "        if item == 2.15:\n",
      "            order.append('mixed fruit')\n",
      "        elif item == 2.75:\n",
      "            order.append('french fries')\n",
      "        elif item == 3.35:\n",
      "            order.append('side salad')\n",
      "        elif item == 3.55:\n",
      "            order.append('hot wings')\n",
      "        elif item == 4.20:\n",
      "            order.append('mozzarella sticks')\n",
      "        elif item == 5.80:\n",
      "            order.append('sampler plate')\n",
      "    possible_orders.append(order)"
     ],
     "language": "python",
     "metadata": {},
     "outputs": [],
     "prompt_number": 6
    },
    {
     "cell_type": "markdown",
     "metadata": {},
     "source": [
      "## The solution"
     ]
    },
    {
     "cell_type": "code",
     "collapsed": false,
     "input": [
      "# Find all the unique orders\n",
      "[list(x) for x in set(tuple(x) for x in possible_orders)]"
     ],
     "language": "python",
     "metadata": {},
     "outputs": [
      {
       "metadata": {},
       "output_type": "pyout",
       "prompt_number": 7,
       "text": [
        "[['mixed fruit', 'hot wings', 'hot wings', 'sampler plate']]"
       ]
      }
     ],
     "prompt_number": 7
    }
   ],
   "metadata": {}
  }
 ]
}