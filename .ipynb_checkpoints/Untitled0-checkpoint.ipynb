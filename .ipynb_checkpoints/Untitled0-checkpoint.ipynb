{
 "metadata": {
  "name": "",
  "signature": "sha256:507a63093ed042d140d4fda1b9dc72f48f31edd8df68c08a271b0b3abb4313d1"
 },
 "nbformat": 3,
 "nbformat_minor": 0,
 "worksheets": [
  {
   "cells": [
    {
     "cell_type": "code",
     "collapsed": false,
     "input": [
      "import spacy.en\n",
      "from spacy.parts_of_speech import ADV\n",
      "nlp = spacy.en.English()"
     ],
     "language": "python",
     "metadata": {},
     "outputs": [
      {
       "ename": "TypeError",
       "evalue": "expected bytes, str found",
       "output_type": "pyerr",
       "traceback": [
        "\u001b[0;31m---------------------------------------------------------------------------\u001b[0m\n\u001b[0;31mTypeError\u001b[0m                                 Traceback (most recent call last)",
        "\u001b[0;32m<ipython-input-6-0a6acab6c1b1>\u001b[0m in \u001b[0;36m<module>\u001b[0;34m()\u001b[0m\n\u001b[1;32m      1\u001b[0m \u001b[0;32mimport\u001b[0m \u001b[0mspacy\u001b[0m\u001b[0;34m.\u001b[0m\u001b[0men\u001b[0m\u001b[0;34m\u001b[0m\u001b[0m\n\u001b[1;32m      2\u001b[0m \u001b[0;32mfrom\u001b[0m \u001b[0mspacy\u001b[0m\u001b[0;34m.\u001b[0m\u001b[0mparts_of_speech\u001b[0m \u001b[0;32mimport\u001b[0m \u001b[0mADV\u001b[0m\u001b[0;34m\u001b[0m\u001b[0m\n\u001b[0;32m----> 3\u001b[0;31m \u001b[0mnlp\u001b[0m \u001b[0;34m=\u001b[0m \u001b[0mspacy\u001b[0m\u001b[0;34m.\u001b[0m\u001b[0men\u001b[0m\u001b[0;34m.\u001b[0m\u001b[0mEnglish\u001b[0m\u001b[0;34m(\u001b[0m\u001b[0;34m)\u001b[0m\u001b[0;34m\u001b[0m\u001b[0m\n\u001b[0m",
        "\u001b[0;32m/Users/chrisralbon/anaconda/envs/py3k/lib/python3.3/site-packages/spacy/en/__init__.py\u001b[0m in \u001b[0;36m__init__\u001b[0;34m(self, data_dir)\u001b[0m\n\u001b[1;32m     65\u001b[0m         \u001b[0mself\u001b[0m\u001b[0;34m.\u001b[0m\u001b[0m_data_dir\u001b[0m \u001b[0;34m=\u001b[0m \u001b[0mdata_dir\u001b[0m\u001b[0;34m\u001b[0m\u001b[0m\n\u001b[1;32m     66\u001b[0m         self.vocab = Vocab(data_dir=path.join(data_dir, 'vocab') if data_dir else None,\n\u001b[0;32m---> 67\u001b[0;31m                            get_lex_props=get_lex_props)\n\u001b[0m\u001b[1;32m     68\u001b[0m         \u001b[0mtag_names\u001b[0m \u001b[0;34m=\u001b[0m \u001b[0mlist\u001b[0m\u001b[0;34m(\u001b[0m\u001b[0mPOS_TAGS\u001b[0m\u001b[0;34m.\u001b[0m\u001b[0mkeys\u001b[0m\u001b[0;34m(\u001b[0m\u001b[0;34m)\u001b[0m\u001b[0;34m)\u001b[0m\u001b[0;34m\u001b[0m\u001b[0m\n\u001b[1;32m     69\u001b[0m         \u001b[0mtag_names\u001b[0m\u001b[0;34m.\u001b[0m\u001b[0msort\u001b[0m\u001b[0;34m(\u001b[0m\u001b[0;34m)\u001b[0m\u001b[0;34m\u001b[0m\u001b[0m\n",
        "\u001b[0;32m/Users/chrisralbon/anaconda/envs/py3k/lib/python3.3/site-packages/spacy/vocab.so\u001b[0m in \u001b[0;36mspacy.vocab.Vocab.__init__ (spacy/vocab.cpp:2550)\u001b[0;34m()\u001b[0m\n",
        "\u001b[0;32m/Users/chrisralbon/anaconda/envs/py3k/lib/python3.3/site-packages/spacy/vocab.so\u001b[0m in \u001b[0;36mspacy.vocab.Vocab.load_rep_vectors (spacy/vocab.cpp:4111)\u001b[0;34m()\u001b[0m\n",
        "\u001b[0;32m/Users/chrisralbon/anaconda/envs/py3k/lib/python3.3/site-packages/spacy/vocab.so\u001b[0m in \u001b[0;36mspacy.vocab._CFile.__init__ (spacy/vocab.cpp:5264)\u001b[0;34m()\u001b[0m\n",
        "\u001b[0;31mTypeError\u001b[0m: expected bytes, str found"
       ]
      }
     ],
     "prompt_number": 6
    },
    {
     "cell_type": "code",
     "collapsed": false,
     "input": [
      "tokens = nlp(\"\u2018Give it back,\u2019 he pleaded abjectly, \u2018it\u2019s mine.\u2019\",\n",
      "                 tag=True, parse=False)"
     ],
     "language": "python",
     "metadata": {},
     "outputs": [
      {
       "ename": "NameError",
       "evalue": "name 'nlp' is not defined",
       "output_type": "pyerr",
       "traceback": [
        "\u001b[0;31m---------------------------------------------------------------------------\u001b[0m\n\u001b[0;31mNameError\u001b[0m                                 Traceback (most recent call last)",
        "\u001b[0;32m<ipython-input-7-806de8fa02a7>\u001b[0m in \u001b[0;36m<module>\u001b[0;34m()\u001b[0m\n\u001b[0;32m----> 1\u001b[0;31m tokens = nlp(\"\u2018Give it back,\u2019 he pleaded abjectly, \u2018it\u2019s mine.\u2019\",\n\u001b[0m\u001b[1;32m      2\u001b[0m                  tag=True, parse=False)\n",
        "\u001b[0;31mNameError\u001b[0m: name 'nlp' is not defined"
       ]
      }
     ],
     "prompt_number": 7
    },
    {
     "cell_type": "code",
     "collapsed": false,
     "input": [],
     "language": "python",
     "metadata": {},
     "outputs": []
    }
   ],
   "metadata": {}
  }
 ]
}