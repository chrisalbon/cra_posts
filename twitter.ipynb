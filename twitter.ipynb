{
 "metadata": {
  "name": "",
  "signature": "sha256:905c89af822a0a6550053faceedf9179990778c9a17d97179e1309481f4764d3"
 },
 "nbformat": 3,
 "nbformat_minor": 0,
 "worksheets": [
  {
   "cells": [
    {
     "cell_type": "code",
     "collapsed": false,
     "input": [
      "# Import Required Modules\n",
      "from tweepy import Stream\n",
      "from tweepy import OAuthHandler\n",
      "from tweepy.streaming import StreamListener\n",
      "import json\n",
      "import csv\n",
      "\n",
      "# Create four variables with my Twitter API Authentication Information\n",
      "access_token = \"11518572-ShXJdSMVTfBtCwBZL7V4dfyh5T4K8O8sCpmDe8SBN\"\n",
      "access_token_secret = \"WtxLOYdF2eZyAwnjEW6Bb4l9mMWyfmiwvAR8Tun01yRx1\"\n",
      "consumer_key = \"4nE7er21Vy00Ieif11Ml7aztT\"\n",
      "consumer_secret = \"nVa5a8rNFVSa5R4FAfh13zGDy3yBxv51vULxtlKtzKm8RRZKIm\"\n",
      "\n",
      "# Create a class object\n",
      "class listener(StreamListener):\n",
      "\n",
      "    # Define a function that will run if the api request\n",
      "    # starts returning data\n",
      "    def on_data(self, data):\n",
      "        # load the json data, encoded at utf-8 \n",
      "        # to deal with non-english characters.\n",
      "        tweets = json.loads(data, encoding=\"utf-8\")\n",
      "        # Create a list, called row, that contains\n",
      "        # the results from extracting the information\n",
      "        # we want from the json file,\n",
      "               # tweet id\n",
      "        row = [tweets['id'],\n",
      "               # tweet text\n",
      "               tweets['text'],\n",
      "               # username\n",
      "               tweets['user']['screen_name'],\n",
      "               # user location\n",
      "               tweets['user']['location'],\n",
      "               # user's description\n",
      "               tweets['user']['description'],\n",
      "               # user's id\n",
      "               tweets['user']['id'],\n",
      "               # user's time offset\n",
      "               tweets['user']['utc_offset'],\n",
      "               # user's timezone\n",
      "               tweets['user']['time_zone'],\n",
      "               # user's full name\n",
      "               tweets['user']['name'],\n",
      "               # user's followee count\n",
      "               tweets['user']['friends_count'],\n",
      "               # user's language\n",
      "               tweets['user']['lang'],\n",
      "               # user's follower count\n",
      "               tweets['user']['followers_count'],\n",
      "               # tweet's geo (if avaliable)\n",
      "               tweets['geo'],\n",
      "               # tweet's place (if avaliable)\n",
      "               tweets['place'],\n",
      "               # tweet's latitude and longitude (if avaliable)\n",
      "               tweets['coordinates'],\n",
      "               # time the tweet was created\n",
      "               tweets['created_at'],\n",
      "               # number of times the tweet was favoriated\n",
      "               tweets['favorite_count'],\n",
      "               # tweet's language\n",
      "               tweets['lang'],\n",
      "               # urls mentioned in the tweet\n",
      "               tweets['entities']['urls']]\n",
      "        \n",
      "        # Open data.csv, 'a' means we want to append something,\n",
      "        with open('data.csv', 'a', newline='') as csvfile:\n",
      "            # create a writer that seperates by comma\n",
      "            csv_writer = csv.writer(csvfile, delimiter=',')\n",
      "            # write the variable, row, as a row\n",
      "            csv_writer.writerow(row)\n",
      "            \n",
      "        # return true\n",
      "        return True\n",
      "\n",
      "    # Define a function that will run if the api request\n",
      "    # starts returning an error message.\n",
      "    def on_error(self, status):\n",
      "        # Print the error message\n",
      "        print(status)\n",
      "\n",
      "# Create an OAuth object\n",
      "auth = OAuthHandler(consumer_key, consumer_secret)\n",
      "# Set the access tokens\n",
      "auth.set_access_token(access_token, access_token_secret)\n",
      "\n",
      "# Create a Twitter Stream Object using \n",
      "# the listener class and auth info\n",
      "twitterStream = Stream(auth, listener())\n",
      "\n",
      "# Run the Twitter Stream, looking for certain words\n",
      "twitterStream.filter(track=['Banana'])"
     ],
     "language": "python",
     "metadata": {},
     "outputs": [
      {
       "output_type": "stream",
       "stream": "stdout",
       "text": [
        "406\n",
        "406"
       ]
      },
      {
       "output_type": "stream",
       "stream": "stdout",
       "text": [
        "\n",
        "406"
       ]
      },
      {
       "output_type": "stream",
       "stream": "stdout",
       "text": [
        "\n",
        "406"
       ]
      },
      {
       "output_type": "stream",
       "stream": "stdout",
       "text": [
        "\n"
       ]
      },
      {
       "ename": "KeyboardInterrupt",
       "evalue": "",
       "output_type": "pyerr",
       "traceback": [
        "\u001b[0;31m---------------------------------------------------------------------------\u001b[0m\n\u001b[0;31mKeyboardInterrupt\u001b[0m                         Traceback (most recent call last)",
        "\u001b[0;32m<ipython-input-13-1622d8888bba>\u001b[0m in \u001b[0;36m<module>\u001b[0;34m()\u001b[0m\n\u001b[1;32m     54\u001b[0m \u001b[0mauth\u001b[0m\u001b[0;34m.\u001b[0m\u001b[0mset_access_token\u001b[0m\u001b[0;34m(\u001b[0m\u001b[0maccess_token\u001b[0m\u001b[0;34m,\u001b[0m \u001b[0maccess_token_secret\u001b[0m\u001b[0;34m)\u001b[0m\u001b[0;34m\u001b[0m\u001b[0m\n\u001b[1;32m     55\u001b[0m \u001b[0mtwitterStream\u001b[0m \u001b[0;34m=\u001b[0m \u001b[0mStream\u001b[0m\u001b[0;34m(\u001b[0m\u001b[0mauth\u001b[0m\u001b[0;34m,\u001b[0m \u001b[0mlistener\u001b[0m\u001b[0;34m(\u001b[0m\u001b[0;34m)\u001b[0m\u001b[0;34m)\u001b[0m\u001b[0;34m\u001b[0m\u001b[0m\n\u001b[0;32m---> 56\u001b[0;31m \u001b[0mtwitterStream\u001b[0m\u001b[0;34m.\u001b[0m\u001b[0mfilter\u001b[0m\u001b[0;34m(\u001b[0m\u001b[0mtrack\u001b[0m\u001b[0;34m=\u001b[0m\u001b[0;34m[\u001b[0m\u001b[0;34mu'\u05d7\u05b6\u05d1\u05b0\u05e8\u05d5\u05b9\u05df'\u001b[0m\u001b[0;34m]\u001b[0m\u001b[0;34m)\u001b[0m\u001b[0;34m\u001b[0m\u001b[0m\n\u001b[0m",
        "\u001b[0;32m/Users/chrisralbon/anaconda/envs/py3k/lib/python3.3/site-packages/tweepy/streaming.py\u001b[0m in \u001b[0;36mfilter\u001b[0;34m(self, follow, track, async, locations, stall_warnings, languages, encoding)\u001b[0m\n\u001b[1;32m    419\u001b[0m         \u001b[0mself\u001b[0m\u001b[0;34m.\u001b[0m\u001b[0msession\u001b[0m\u001b[0;34m.\u001b[0m\u001b[0mparams\u001b[0m\u001b[0;34m[\u001b[0m\u001b[0;34m'delimited'\u001b[0m\u001b[0;34m]\u001b[0m \u001b[0;34m=\u001b[0m \u001b[0;34m'length'\u001b[0m\u001b[0;34m\u001b[0m\u001b[0m\n\u001b[1;32m    420\u001b[0m         \u001b[0mself\u001b[0m\u001b[0;34m.\u001b[0m\u001b[0mhost\u001b[0m \u001b[0;34m=\u001b[0m \u001b[0;34m'stream.twitter.com'\u001b[0m\u001b[0;34m\u001b[0m\u001b[0m\n\u001b[0;32m--> 421\u001b[0;31m         \u001b[0mself\u001b[0m\u001b[0;34m.\u001b[0m\u001b[0m_start\u001b[0m\u001b[0;34m(\u001b[0m\u001b[0masync\u001b[0m\u001b[0;34m)\u001b[0m\u001b[0;34m\u001b[0m\u001b[0m\n\u001b[0m\u001b[1;32m    422\u001b[0m \u001b[0;34m\u001b[0m\u001b[0m\n\u001b[1;32m    423\u001b[0m     def sitestream(self, follow, stall_warnings=False,\n",
        "\u001b[0;32m/Users/chrisralbon/anaconda/envs/py3k/lib/python3.3/site-packages/tweepy/streaming.py\u001b[0m in \u001b[0;36m_start\u001b[0;34m(self, async)\u001b[0m\n\u001b[1;32m    336\u001b[0m             \u001b[0mself\u001b[0m\u001b[0;34m.\u001b[0m\u001b[0m_thread\u001b[0m\u001b[0;34m.\u001b[0m\u001b[0mstart\u001b[0m\u001b[0;34m(\u001b[0m\u001b[0;34m)\u001b[0m\u001b[0;34m\u001b[0m\u001b[0m\n\u001b[1;32m    337\u001b[0m         \u001b[0;32melse\u001b[0m\u001b[0;34m:\u001b[0m\u001b[0;34m\u001b[0m\u001b[0m\n\u001b[0;32m--> 338\u001b[0;31m             \u001b[0mself\u001b[0m\u001b[0;34m.\u001b[0m\u001b[0m_run\u001b[0m\u001b[0;34m(\u001b[0m\u001b[0;34m)\u001b[0m\u001b[0;34m\u001b[0m\u001b[0m\n\u001b[0m\u001b[1;32m    339\u001b[0m \u001b[0;34m\u001b[0m\u001b[0m\n\u001b[1;32m    340\u001b[0m     \u001b[0;32mdef\u001b[0m \u001b[0mon_closed\u001b[0m\u001b[0;34m(\u001b[0m\u001b[0mself\u001b[0m\u001b[0;34m,\u001b[0m \u001b[0mresp\u001b[0m\u001b[0;34m)\u001b[0m\u001b[0;34m:\u001b[0m\u001b[0;34m\u001b[0m\u001b[0m\n",
        "\u001b[0;32m/Users/chrisralbon/anaconda/envs/py3k/lib/python3.3/site-packages/tweepy/streaming.py\u001b[0m in \u001b[0;36m_run\u001b[0;34m(self)\u001b[0m\n\u001b[1;32m    237\u001b[0m                         self.retry_time = max(self.retry_420_start,\n\u001b[1;32m    238\u001b[0m                                               self.retry_time)\n\u001b[0;32m--> 239\u001b[0;31m                     \u001b[0msleep\u001b[0m\u001b[0;34m(\u001b[0m\u001b[0mself\u001b[0m\u001b[0;34m.\u001b[0m\u001b[0mretry_time\u001b[0m\u001b[0;34m)\u001b[0m\u001b[0;34m\u001b[0m\u001b[0m\n\u001b[0m\u001b[1;32m    240\u001b[0m                     self.retry_time = min(self.retry_time * 2,\n\u001b[1;32m    241\u001b[0m                                           self.retry_time_cap)\n",
        "\u001b[0;31mKeyboardInterrupt\u001b[0m: "
       ]
      }
     ],
     "prompt_number": 13
    },
    {
     "cell_type": "code",
     "collapsed": false,
     "input": [],
     "language": "python",
     "metadata": {},
     "outputs": [],
     "prompt_number": 24
    },
    {
     "cell_type": "code",
     "collapsed": false,
     "input": [],
     "language": "python",
     "metadata": {},
     "outputs": []
    }
   ],
   "metadata": {}
  }
 ]
}