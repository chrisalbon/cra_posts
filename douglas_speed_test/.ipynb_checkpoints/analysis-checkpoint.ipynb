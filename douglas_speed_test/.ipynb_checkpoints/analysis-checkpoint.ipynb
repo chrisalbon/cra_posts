{
 "metadata": {
  "name": "",
  "signature": "sha256:0f475ad309805eb18e31c38b85ef9edfc1975899be6ae45221520f351a44f9e5"
 },
 "nbformat": 3,
 "nbformat_minor": 0,
 "worksheets": [
  {
   "cells": [
    {
     "cell_type": "markdown",
     "metadata": {},
     "source": [
      "# Measuring Internet Speed Variations In Douglas, AZ\n",
      "\n",
      "- From: Chris R. Albon\n",
      "- Date: November 9th, 2014\n",
      "- Description: Plotting the changes in mbps taken from non-random samples.\n",
      "- Environment: Python 3"
     ]
    },
    {
     "cell_type": "markdown",
     "metadata": {},
     "source": [
      "## Preliminaries"
     ]
    },
    {
     "cell_type": "code",
     "collapsed": false,
     "input": [
      "# Import packages\n",
      "import pandas as pd\n",
      "import matplotlib.pyplot as plt\n",
      "\n",
      "\n",
      "# Set plots to display inline\n",
      "%matplotlib inline"
     ],
     "language": "python",
     "metadata": {},
     "outputs": [],
     "prompt_number": 1
    },
    {
     "cell_type": "markdown",
     "metadata": {},
     "source": [
      "## Load the data"
     ]
    },
    {
     "cell_type": "code",
     "collapsed": false,
     "input": [
      "# Load the data\n",
      "df = pd.read_csv('data/test_data.csv')"
     ],
     "language": "python",
     "metadata": {},
     "outputs": [],
     "prompt_number": 2
    },
    {
     "cell_type": "code",
     "collapsed": false,
     "input": [
      "# Check the number of observations\n",
      "len(df)"
     ],
     "language": "python",
     "metadata": {},
     "outputs": [
      {
       "metadata": {},
       "output_type": "pyout",
       "prompt_number": 3,
       "text": [
        "81"
       ]
      }
     ],
     "prompt_number": 3
    },
    {
     "cell_type": "markdown",
     "metadata": {},
     "source": [
      "## Data Wrangling"
     ]
    },
    {
     "cell_type": "code",
     "collapsed": false,
     "input": [
      "# Check the type of the date variable\n",
      "type(df['Date'])"
     ],
     "language": "python",
     "metadata": {},
     "outputs": [
      {
       "metadata": {},
       "output_type": "pyout",
       "prompt_number": 4,
       "text": [
        "pandas.core.series.Series"
       ]
      }
     ],
     "prompt_number": 4
    },
    {
     "cell_type": "code",
     "collapsed": false,
     "input": [
      "# Create a list called 'time' from the column 'date'\n",
      "timestamp = df['Date']\n",
      "\n",
      "# Create an empty list\n",
      "time = []\n",
      "\n",
      "# for each row in time,\n",
      "for row in timestamp:\n",
      "    # split the row along the space, then\n",
      "    x = row.split(' ')\n",
      "    # select the second item, and\n",
      "    x = x[1]\n",
      "    \n",
      "    # append it to the variable called time\n",
      "    time.append(x)\n",
      "    \n",
      "# Create an empty list\n",
      "hour = []\n",
      "    \n",
      "# for each item in time\n",
      "for row in time:\n",
      "    # split the row along the semicolon, then,\n",
      "    x = row.split(':')\n",
      "    # select the first item, and\n",
      "    x = x[0]\n",
      "    \n",
      "    # append it to the variablle called hour\n",
      "    hour.append(x)"
     ],
     "language": "python",
     "metadata": {},
     "outputs": [],
     "prompt_number": 5
    },
    {
     "cell_type": "code",
     "collapsed": false,
     "input": [
      "# Create a column from the variable, hour\n",
      "df['hour'] = hour"
     ],
     "language": "python",
     "metadata": {},
     "outputs": [],
     "prompt_number": 6
    },
    {
     "cell_type": "code",
     "collapsed": false,
     "input": [
      "# View the top few rows of the dataframe\n",
      "df.head()"
     ],
     "language": "python",
     "metadata": {},
     "outputs": [
      {
       "html": [
        "<div style=\"max-height:1000px;max-width:1500px;overflow:auto;\">\n",
        "<table border=\"1\" class=\"dataframe\">\n",
        "  <thead>\n",
        "    <tr style=\"text-align: right;\">\n",
        "      <th></th>\n",
        "      <th>Date</th>\n",
        "      <th>ConnType</th>\n",
        "      <th>Download</th>\n",
        "      <th>Upload</th>\n",
        "      <th>Latency</th>\n",
        "      <th>ServerName</th>\n",
        "      <th>hour</th>\n",
        "    </tr>\n",
        "  </thead>\n",
        "  <tbody>\n",
        "    <tr>\n",
        "      <th>0</th>\n",
        "      <td> 11/8/14 19:40</td>\n",
        "      <td> Wifi</td>\n",
        "      <td> 12.17</td>\n",
        "      <td> 5.69</td>\n",
        "      <td> 61</td>\n",
        "      <td> Tucson, AZ</td>\n",
        "      <td> 19</td>\n",
        "    </tr>\n",
        "    <tr>\n",
        "      <th>1</th>\n",
        "      <td> 11/8/14 18:16</td>\n",
        "      <td> Wifi</td>\n",
        "      <td>  7.32</td>\n",
        "      <td> 5.52</td>\n",
        "      <td> 62</td>\n",
        "      <td> Tucson, AZ</td>\n",
        "      <td> 18</td>\n",
        "    </tr>\n",
        "    <tr>\n",
        "      <th>2</th>\n",
        "      <td> 11/8/14 17:45</td>\n",
        "      <td> Wifi</td>\n",
        "      <td> 19.77</td>\n",
        "      <td> 5.87</td>\n",
        "      <td> 44</td>\n",
        "      <td> Tucson, AZ</td>\n",
        "      <td> 17</td>\n",
        "    </tr>\n",
        "    <tr>\n",
        "      <th>3</th>\n",
        "      <td> 11/8/14 15:09</td>\n",
        "      <td> Wifi</td>\n",
        "      <td>  6.52</td>\n",
        "      <td> 5.18</td>\n",
        "      <td> 51</td>\n",
        "      <td>    Nogales</td>\n",
        "      <td> 15</td>\n",
        "    </tr>\n",
        "    <tr>\n",
        "      <th>4</th>\n",
        "      <td> 11/8/14 14:55</td>\n",
        "      <td> Wifi</td>\n",
        "      <td>  9.97</td>\n",
        "      <td> 5.41</td>\n",
        "      <td> 52</td>\n",
        "      <td>   Pima, AZ</td>\n",
        "      <td> 14</td>\n",
        "    </tr>\n",
        "  </tbody>\n",
        "</table>\n",
        "</div>"
       ],
       "metadata": {},
       "output_type": "pyout",
       "prompt_number": 7,
       "text": [
        "            Date ConnType  Download  Upload  Latency  ServerName hour\n",
        "0  11/8/14 19:40     Wifi     12.17    5.69       61  Tucson, AZ   19\n",
        "1  11/8/14 18:16     Wifi      7.32    5.52       62  Tucson, AZ   18\n",
        "2  11/8/14 17:45     Wifi     19.77    5.87       44  Tucson, AZ   17\n",
        "3  11/8/14 15:09     Wifi      6.52    5.18       51     Nogales   15\n",
        "4  11/8/14 14:55     Wifi      9.97    5.41       52    Pima, AZ   14"
       ]
      }
     ],
     "prompt_number": 7
    },
    {
     "cell_type": "code",
     "collapsed": false,
     "input": [
      "# Convert the df.hour column from a string to float\n",
      "df['hour'] = df['hour'].convert_objects(convert_numeric=True)\n",
      "\n",
      "# Sort the dataframe by the hour column\n",
      "df = df.sort(columns='hour', ascending=True)"
     ],
     "language": "python",
     "metadata": {},
     "outputs": [],
     "prompt_number": 8
    },
    {
     "cell_type": "code",
     "collapsed": false,
     "input": [
      "# Group the dataframe by the hour column\n",
      "by_hour = df.groupby(df['hour'])\n",
      "\n",
      "# Create a dataframe of the mean values per hour\n",
      "df_hourly = by_hour.mean()"
     ],
     "language": "python",
     "metadata": {},
     "outputs": [],
     "prompt_number": 9
    },
    {
     "cell_type": "code",
     "collapsed": false,
     "input": [
      "# View the top few rows of the hourly dataframe\n",
      "df_hourly.head()"
     ],
     "language": "python",
     "metadata": {},
     "outputs": [
      {
       "html": [
        "<div style=\"max-height:1000px;max-width:1500px;overflow:auto;\">\n",
        "<table border=\"1\" class=\"dataframe\">\n",
        "  <thead>\n",
        "    <tr style=\"text-align: right;\">\n",
        "      <th></th>\n",
        "      <th>Download</th>\n",
        "      <th>Upload</th>\n",
        "      <th>Latency</th>\n",
        "      <th>hour</th>\n",
        "    </tr>\n",
        "    <tr>\n",
        "      <th>hour</th>\n",
        "      <th></th>\n",
        "      <th></th>\n",
        "      <th></th>\n",
        "      <th></th>\n",
        "    </tr>\n",
        "  </thead>\n",
        "  <tbody>\n",
        "    <tr>\n",
        "      <th>2</th>\n",
        "      <td> 16.693333</td>\n",
        "      <td> 5.540000</td>\n",
        "      <td> 48.000000</td>\n",
        "      <td> 2</td>\n",
        "    </tr>\n",
        "    <tr>\n",
        "      <th>3</th>\n",
        "      <td> 28.660000</td>\n",
        "      <td> 5.335000</td>\n",
        "      <td> 47.500000</td>\n",
        "      <td> 3</td>\n",
        "    </tr>\n",
        "    <tr>\n",
        "      <th>4</th>\n",
        "      <td> 27.995000</td>\n",
        "      <td> 5.685000</td>\n",
        "      <td> 45.000000</td>\n",
        "      <td> 4</td>\n",
        "    </tr>\n",
        "    <tr>\n",
        "      <th>5</th>\n",
        "      <td> 22.977500</td>\n",
        "      <td> 5.105000</td>\n",
        "      <td> 45.500000</td>\n",
        "      <td> 5</td>\n",
        "    </tr>\n",
        "    <tr>\n",
        "      <th>6</th>\n",
        "      <td> 19.332857</td>\n",
        "      <td> 5.417143</td>\n",
        "      <td> 45.714286</td>\n",
        "      <td> 6</td>\n",
        "    </tr>\n",
        "  </tbody>\n",
        "</table>\n",
        "</div>"
       ],
       "metadata": {},
       "output_type": "pyout",
       "prompt_number": 10,
       "text": [
        "       Download    Upload    Latency  hour\n",
        "hour                                      \n",
        "2     16.693333  5.540000  48.000000     2\n",
        "3     28.660000  5.335000  47.500000     3\n",
        "4     27.995000  5.685000  45.000000     4\n",
        "5     22.977500  5.105000  45.500000     5\n",
        "6     19.332857  5.417143  45.714286     6"
       ]
      }
     ],
     "prompt_number": 10
    },
    {
     "cell_type": "markdown",
     "metadata": {},
     "source": [
      "## Visualize the data"
     ]
    },
    {
     "cell_type": "code",
     "collapsed": false,
     "input": [
      "# Plot the value of df_hourly.upload by hour\n",
      "df_hourly['Upload'].plot(kind='area')\n",
      "\n",
      "# Save the plot\n",
      "plt.savefig(\"upload_plot.eps\")"
     ],
     "language": "python",
     "metadata": {},
     "outputs": [
      {
       "metadata": {},
       "output_type": "display_data",
       "png": "[encoded data removed]",
       "text": [
        "<matplotlib.figure.Figure at 0x1087af050>"
       ]
      }
     ],
     "prompt_number": 12
    },
    {
     "cell_type": "code",
     "collapsed": false,
     "input": [
      "# Plot the value of df_hourly.latency by hour\n",
      "df_hourly['Latency'].plot(kind='area')\n",
      "\n",
      "# Save the plot\n",
      "plt.savefig(\"latency_plot.eps\")"
     ],
     "language": "python",
     "metadata": {},
     "outputs": [
      {
       "metadata": {},
       "output_type": "display_data",
       "png": "[encoded data removed]",
       "text": [
        "<matplotlib.figure.Figure at 0x108853110>"
       ]
      }
     ],
     "prompt_number": 13
    },
    {
     "cell_type": "code",
     "collapsed": false,
     "input": [
      "# Plot the value of df_hourly.download by hour\n",
      "df_hourly['Download'].plot(kind='area')\n",
      "\n",
      "# Save the plot\n",
      "plt.savefig(\"download_plot.eps\")"
     ],
     "language": "python",
     "metadata": {},
     "outputs": []
    },
    {
     "cell_type": "code",
     "collapsed": false,
     "input": [
      "# Create a scatterplot of,\n",
      "            # x axis: Latency, and \n",
      "plt.scatter(df['Latency'], \n",
      "            # y axis: Download, with\n",
      "            df['Download'], \n",
      "            # the color assigned as blue\n",
      "            color='b')\n",
      "\n",
      "# Chart title\n",
      "plt.title('Latency vs. Download Speed')\n",
      "\n",
      "# y label\n",
      "plt.ylabel('Download Speed (mbps)')\n",
      "\n",
      "# x label\n",
      "plt.xlabel('Latency (ms)')\n",
      "\n",
      "# Show the plot\n",
      "plt.savefig(\"latency_vs_download_plot.eps\")"
     ],
     "language": "python",
     "metadata": {},
     "outputs": [
      {
       "metadata": {},
       "output_type": "display_data",
       "png": "[encoded data removed]",
       "text": [
        "<matplotlib.figure.Figure at 0x108858ed0>"
       ]
      }
     ],
     "prompt_number": 14
    }
   ],
   "metadata": {}
  }
 ]
}