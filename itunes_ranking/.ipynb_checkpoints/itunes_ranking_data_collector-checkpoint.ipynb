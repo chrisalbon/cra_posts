{
 "metadata": {
  "name": "",
  "signature": "sha256:33ce465646b5db9b30218448f945f02cd0eb538cc9d15fd8fb36d5d4ebb9f7c7"
 },
 "nbformat": 3,
 "nbformat_minor": 0,
 "worksheets": [
  {
   "cells": [
    {
     "cell_type": "code",
     "collapsed": false,
     "input": [
      "# Import required packages\n",
      "import requests\n",
      "import pandas as pd\n",
      "import json\n",
      "import time"
     ],
     "language": "python",
     "metadata": {},
     "outputs": [],
     "prompt_number": 1
    },
    {
     "cell_type": "code",
     "collapsed": false,
     "input": [
      "# While true,\n",
      "while True: \n",
      "    # Set the url to itunes' rss json feed\n",
      "    url = 'https://itunes.apple.com/us/rss/toppodcasts/limit=200/genre=1318/json'\n",
      "    # Make the api request\n",
      "    r = requests.get(url)\n",
      "    # Turn the json into a variable\n",
      "    data = r.json()\n",
      "    \n",
      "    # Create three variables with the data we want\n",
      "    # to extract from the api's json feed\n",
      "    date = []\n",
      "    podcast = []\n",
      "    rank = []\n",
      "\n",
      "    # For each item in a list of 0 to 200\n",
      "    for i in list(range(0, 200, 1)):\n",
      "        # append the podcast's name to the podcast variable\n",
      "        podcast.append(data['feed']['entry'][i]['title']['label'])\n",
      "        # append the rank to the rank variable\n",
      "        # (we add 1 because a ranking is 1-indexed while python is 0-indexed)\n",
      "        rank.append(i+1)\n",
      "        # append the date to the date variable\n",
      "        date.append(data['feed']['updated']['label'])\n",
      "    \n",
      "    # Setup a pandas dataframe with three columns\n",
      "    df = pd.DataFrame()\n",
      "    df['date'] = date\n",
      "    df['podcast'] = podcast\n",
      "    df['rank'] = rank\n",
      "    \n",
      "    # Open a csv file and append (marked by 'a') the dataframe to\n",
      "    # the end of it\n",
      "    with open('data/data.csv', 'a') as f:\n",
      "        df.to_csv(f, header=False, index=False)\n",
      "    \n",
      "    # Then wait an hour (3600 seconds)\n",
      "    time.sleep(3600)"
     ],
     "language": "python",
     "metadata": {},
     "outputs": [
      {
       "ename": "KeyboardInterrupt",
       "evalue": "",
       "output_type": "pyerr",
       "traceback": [
        "\u001b[0;31m---------------------------------------------------------------------------\u001b[0m\n\u001b[0;31mKeyboardInterrupt\u001b[0m                         Traceback (most recent call last)",
        "\u001b[0;32m<ipython-input-2-a87f92f1a642>\u001b[0m in \u001b[0;36m<module>\u001b[0;34m()\u001b[0m\n\u001b[1;32m     36\u001b[0m \u001b[0;34m\u001b[0m\u001b[0m\n\u001b[1;32m     37\u001b[0m     \u001b[0;31m# Then wait an hour (3600 seconds)\u001b[0m\u001b[0;34m\u001b[0m\u001b[0;34m\u001b[0m\u001b[0m\n\u001b[0;32m---> 38\u001b[0;31m     \u001b[0mtime\u001b[0m\u001b[0;34m.\u001b[0m\u001b[0msleep\u001b[0m\u001b[0;34m(\u001b[0m\u001b[0;36m3600\u001b[0m\u001b[0;34m)\u001b[0m\u001b[0;34m\u001b[0m\u001b[0m\n\u001b[0m",
        "\u001b[0;31mKeyboardInterrupt\u001b[0m: "
       ]
      }
     ],
     "prompt_number": 2
    },
    {
     "cell_type": "code",
     "collapsed": false,
     "input": [],
     "language": "python",
     "metadata": {},
     "outputs": []
    }
   ],
   "metadata": {}
  }
 ]
}