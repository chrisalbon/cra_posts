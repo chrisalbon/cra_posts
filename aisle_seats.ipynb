{
 "metadata": {
  "name": "",
  "signature": "sha256:1abea30397efdcb39be7622e0b63b74b0b9e3a2f23ebc30f8a69181647b0f482"
 },
 "nbformat": 3,
 "nbformat_minor": 0,
 "worksheets": [
  {
   "cells": [
    {
     "cell_type": "markdown",
     "metadata": {},
     "source": [
      "# The Probability an Economy Class Seat In an Aisle"
     ]
    },
    {
     "cell_type": "code",
     "collapsed": false,
     "input": [
      "# Import required modules\n",
      "import pandas as pd\n",
      "import numpy as np\n",
      "\n",
      "# Set plots to display in the iPython notebook\n",
      "%matplotlib inline"
     ],
     "language": "python",
     "metadata": {},
     "outputs": [],
     "prompt_number": 9
    },
    {
     "cell_type": "code",
     "collapsed": false,
     "input": [
      "rows2 = [1,1, np.nan, np.nan, np.nan, np.nan, np.nan, np.nan, np.nan]\n",
      "rows3 = [1,1,0, np.nan, np.nan, np.nan, np.nan, np.nan, np.nan,]\n",
      "rows4 = [0,1,1,0, np.nan, np.nan, np.nan, np.nan, np.nan]\n",
      "rows5 = [0,1,1,0,0, np.nan, np.nan,np.nan, np.nan]\n",
      "rows6 = [0,1,1,0,1,0, np.nan, np.nan, np.nan]\n",
      "rows7 = [0,1,1,0,1,1,0, np.nan, np.nan]\n",
      "rows8 = [0,0,1,1,1,1,0,0, np.nan]\n",
      "rows9 = [0,0,1,1,0,1,1,0,0]"
     ],
     "language": "python",
     "metadata": {},
     "outputs": [],
     "prompt_number": 10
    },
    {
     "cell_type": "code",
     "collapsed": false,
     "input": [
      "seating_map = [rows2, rows3, rows4, rows5, rows6, rows7, rows8, rows9]"
     ],
     "language": "python",
     "metadata": {},
     "outputs": [],
     "prompt_number": 11
    },
    {
     "cell_type": "code",
     "collapsed": false,
     "input": [
      "df = pd.DataFrame(seating_map, \n",
      "                  columns=['A', 'B', 'C', 'D', 'E', 'F', 'G', 'H', 'I'],\n",
      "                  index=['rows2', 'rows3', 'rows4', 'rows5', 'rows6', 'rows7', 'rows8', 'rows9'])"
     ],
     "language": "python",
     "metadata": {},
     "outputs": [],
     "prompt_number": 12
    },
    {
     "cell_type": "code",
     "collapsed": false,
     "input": [
      "df"
     ],
     "language": "python",
     "metadata": {},
     "outputs": [
      {
       "html": [
        "<div style=\"max-height:1000px;max-width:1500px;overflow:auto;\">\n",
        "<table border=\"1\" class=\"dataframe\">\n",
        "  <thead>\n",
        "    <tr style=\"text-align: right;\">\n",
        "      <th></th>\n",
        "      <th>A</th>\n",
        "      <th>B</th>\n",
        "      <th>C</th>\n",
        "      <th>D</th>\n",
        "      <th>E</th>\n",
        "      <th>F</th>\n",
        "      <th>G</th>\n",
        "      <th>H</th>\n",
        "      <th>I</th>\n",
        "    </tr>\n",
        "  </thead>\n",
        "  <tbody>\n",
        "    <tr>\n",
        "      <th>rows2</th>\n",
        "      <td> 1</td>\n",
        "      <td> 1</td>\n",
        "      <td>NaN</td>\n",
        "      <td>NaN</td>\n",
        "      <td>NaN</td>\n",
        "      <td>NaN</td>\n",
        "      <td>NaN</td>\n",
        "      <td>NaN</td>\n",
        "      <td>NaN</td>\n",
        "    </tr>\n",
        "    <tr>\n",
        "      <th>rows3</th>\n",
        "      <td> 1</td>\n",
        "      <td> 1</td>\n",
        "      <td>  0</td>\n",
        "      <td>NaN</td>\n",
        "      <td>NaN</td>\n",
        "      <td>NaN</td>\n",
        "      <td>NaN</td>\n",
        "      <td>NaN</td>\n",
        "      <td>NaN</td>\n",
        "    </tr>\n",
        "    <tr>\n",
        "      <th>rows4</th>\n",
        "      <td> 0</td>\n",
        "      <td> 1</td>\n",
        "      <td>  1</td>\n",
        "      <td>  0</td>\n",
        "      <td>NaN</td>\n",
        "      <td>NaN</td>\n",
        "      <td>NaN</td>\n",
        "      <td>NaN</td>\n",
        "      <td>NaN</td>\n",
        "    </tr>\n",
        "    <tr>\n",
        "      <th>rows5</th>\n",
        "      <td> 0</td>\n",
        "      <td> 1</td>\n",
        "      <td>  1</td>\n",
        "      <td>  0</td>\n",
        "      <td>  0</td>\n",
        "      <td>NaN</td>\n",
        "      <td>NaN</td>\n",
        "      <td>NaN</td>\n",
        "      <td>NaN</td>\n",
        "    </tr>\n",
        "    <tr>\n",
        "      <th>rows6</th>\n",
        "      <td> 0</td>\n",
        "      <td> 1</td>\n",
        "      <td>  1</td>\n",
        "      <td>  0</td>\n",
        "      <td>  1</td>\n",
        "      <td>  0</td>\n",
        "      <td>NaN</td>\n",
        "      <td>NaN</td>\n",
        "      <td>NaN</td>\n",
        "    </tr>\n",
        "    <tr>\n",
        "      <th>rows7</th>\n",
        "      <td> 0</td>\n",
        "      <td> 1</td>\n",
        "      <td>  1</td>\n",
        "      <td>  0</td>\n",
        "      <td>  1</td>\n",
        "      <td>  1</td>\n",
        "      <td>  0</td>\n",
        "      <td>NaN</td>\n",
        "      <td>NaN</td>\n",
        "    </tr>\n",
        "    <tr>\n",
        "      <th>rows8</th>\n",
        "      <td> 0</td>\n",
        "      <td> 0</td>\n",
        "      <td>  1</td>\n",
        "      <td>  1</td>\n",
        "      <td>  1</td>\n",
        "      <td>  1</td>\n",
        "      <td>  0</td>\n",
        "      <td>  0</td>\n",
        "      <td>NaN</td>\n",
        "    </tr>\n",
        "    <tr>\n",
        "      <th>rows9</th>\n",
        "      <td> 0</td>\n",
        "      <td> 0</td>\n",
        "      <td>  1</td>\n",
        "      <td>  1</td>\n",
        "      <td>  0</td>\n",
        "      <td>  1</td>\n",
        "      <td>  1</td>\n",
        "      <td>  0</td>\n",
        "      <td>  0</td>\n",
        "    </tr>\n",
        "  </tbody>\n",
        "</table>\n",
        "</div>"
       ],
       "metadata": {},
       "output_type": "pyout",
       "prompt_number": 13,
       "text": [
        "       A  B   C   D   E   F   G   H   I\n",
        "rows2  1  1 NaN NaN NaN NaN NaN NaN NaN\n",
        "rows3  1  1   0 NaN NaN NaN NaN NaN NaN\n",
        "rows4  0  1   1   0 NaN NaN NaN NaN NaN\n",
        "rows5  0  1   1   0   0 NaN NaN NaN NaN\n",
        "rows6  0  1   1   0   1   0 NaN NaN NaN\n",
        "rows7  0  1   1   0   1   1   0 NaN NaN\n",
        "rows8  0  0   1   1   1   1   0   0 NaN\n",
        "rows9  0  0   1   1   0   1   1   0   0"
       ]
      }
     ],
     "prompt_number": 13
    },
    {
     "cell_type": "code",
     "collapsed": false,
     "input": [
      "aisle_probability = [df['A'].mean(), \n",
      "                     df['B'].mean(),\n",
      "                     df['C'].mean(),\n",
      "                     df['D'].mean(),\n",
      "                     df['E'].mean(),\n",
      "                     df['F'].mean(),\n",
      "                     df['G'].mean(),\n",
      "                     df['H'].mean(),\n",
      "                     df['I'].mean()]"
     ],
     "language": "python",
     "metadata": {},
     "outputs": [],
     "prompt_number": 14
    },
    {
     "cell_type": "code",
     "collapsed": false,
     "input": [
      "aisle_probability"
     ],
     "language": "python",
     "metadata": {},
     "outputs": [
      {
       "metadata": {},
       "output_type": "pyout",
       "prompt_number": 15,
       "text": [
        "[0.25,\n",
        " 0.75,\n",
        " 0.8571428571428571,\n",
        " 0.33333333333333331,\n",
        " 0.59999999999999998,\n",
        " 0.75,\n",
        " 0.33333333333333331,\n",
        " 0.0,\n",
        " 0.0]"
       ]
      }
     ],
     "prompt_number": 15
    },
    {
     "cell_type": "code",
     "collapsed": false,
     "input": [
      "seats = ['Seat A', 'Seat B', 'Seat C', 'Seat D', \n",
      "         'Seat E', 'Seat F', 'Seat G', 'Seat H', 'Seat I']"
     ],
     "language": "python",
     "metadata": {},
     "outputs": [],
     "prompt_number": 16
    },
    {
     "cell_type": "code",
     "collapsed": false,
     "input": [
      "pd.Series(aisle_probability, index=seats).plot(kind='bar', \n",
      "                                                    ylim=[0,1],\n",
      "                                                    figsize=[10,6],\n",
      "                                                    title='Probabilty of being an Aisle Seat in Economy Class')"
     ],
     "language": "python",
     "metadata": {},
     "outputs": [
      {
       "metadata": {},
       "output_type": "pyout",
       "prompt_number": 17,
       "text": [
        "<matplotlib.axes._subplots.AxesSubplot at 0x10862c110>"
       ]
      },
      {
       "metadata": {},
       "output_type": "display_data",
       "png": "[encoded data removed]",
       "text": [
        "<matplotlib.figure.Figure at 0x1084b7d10>"
       ]
      }
     ],
     "prompt_number": 17
    }
   ],
   "metadata": {}
  }
 ]
}